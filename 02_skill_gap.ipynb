{
 "cells": [
  {
   "cell_type": "markdown",
   "id": "0041f078-6719-49df-8ffa-b6db8e3de730",
   "metadata": {},
   "source": [
    "<h2>---- DATA CLEANING AND STANDARDIZATION ----  </h2>"
   ]
  },
  {
   "cell_type": "code",
   "execution_count": 1,
   "id": "e3bab50b-140c-4bff-8c9f-f3179570025c",
   "metadata": {},
   "outputs": [],
   "source": [
    "# Importing necessary modules\n",
    "import pandas as pd \n",
    "df = pd.read_excel(\"SkillGap.xlsx\")"
   ]
  },
  {
   "cell_type": "code",
   "execution_count": 2,
   "id": "64058a56-55de-47a4-98cc-3c7260851640",
   "metadata": {
    "scrolled": true
   },
   "outputs": [
    {
     "name": "stdout",
     "output_type": "stream",
     "text": [
      "First 5 rows\n",
      "  EmployeeID   CurrentSkill ProficiencyLevel ProjectSkillRequired  Gap\n",
      "0         E0  Data Analysis         Beginner               Python   No\n",
      "1         E1            SQL         Beginner               Python   No\n",
      "2         E2          Excel     Intermediate                 Java   No\n",
      "3         E3           Java         Advanced                  SQL  Yes\n",
      "4         E4  Data Analysis         Beginner                 Java   No\n"
     ]
    }
   ],
   "source": [
    "# Accesing first 5 rows to inspect the data\n",
    "print(\"First 5 rows\")\n",
    "print(df.head())"
   ]
  },
  {
   "cell_type": "code",
   "execution_count": 3,
   "id": "1ec13c33-e231-40b8-930a-cadb21cb6f86",
   "metadata": {},
   "outputs": [
    {
     "name": "stdout",
     "output_type": "stream",
     "text": [
      "\n",
      " Checking Null values\n"
     ]
    },
    {
     "data": {
      "text/plain": [
       "EmployeeID              0\n",
       "CurrentSkill            0\n",
       "ProficiencyLevel        0\n",
       "ProjectSkillRequired    0\n",
       "Gap                     0\n",
       "dtype: int64"
      ]
     },
     "execution_count": 3,
     "metadata": {},
     "output_type": "execute_result"
    }
   ],
   "source": [
    "# Checking for null values\n",
    "print(\"\\n Checking Null values\")\n",
    "df.isnull().sum()"
   ]
  },
  {
   "cell_type": "code",
   "execution_count": 4,
   "id": "a16cad98-dd18-4be2-a7ed-91729d00e2b6",
   "metadata": {},
   "outputs": [
    {
     "name": "stdout",
     "output_type": "stream",
     "text": [
      "First 5 rows after converting to UPPERCASE\n",
      "  EmployeeID   CurrentSkill ProficiencyLevel ProjectSkillRequired  Gap\n",
      "0         E0  DATA ANALYSIS         Beginner               PYTHON   No\n",
      "1         E1            SQL         Beginner               PYTHON   No\n",
      "2         E2          EXCEL     Intermediate                 JAVA   No\n",
      "3         E3           JAVA         Advanced                  SQL  Yes\n",
      "4         E4  DATA ANALYSIS         Beginner                 JAVA   No\n"
     ]
    }
   ],
   "source": [
    "# Convert CurrentSkill and ProjectSkillRequired to uppercase\n",
    "df['CurrentSkill'] = df['CurrentSkill'].str.upper()\n",
    "df['ProjectSkillRequired'] = df['ProjectSkillRequired'].str.upper()\n",
    "# Checking changes in data\n",
    "print(\"First 5 rows after converting to UPPERCASE\")\n",
    "print(df.head())"
   ]
  },
  {
   "cell_type": "markdown",
   "id": "2c960294-8ef2-40f4-94a0-027bfd86ed5b",
   "metadata": {},
   "source": [
    "<h2>----  Core Metric Calculation ---- </h2>"
   ]
  },
  {
   "cell_type": "code",
   "execution_count": 5,
   "id": "61bfe95b-ac9a-4d0d-8c87-68c3e55ad9e3",
   "metadata": {},
   "outputs": [
    {
     "name": "stdout",
     "output_type": "stream",
     "text": [
      "Overall Skill Gap Rate: 40.53%\n"
     ]
    }
   ],
   "source": [
    "# Calculate overall skill gap rate\n",
    "total_employees = len(df)\n",
    "employees_with_gap = df[df[\"Gap\"].str.upper() == \"YES\"].shape[0]\n",
    "\n",
    "skill_gap_rate = (employees_with_gap / total_employees) * 100\n",
    "print(f\"Overall Skill Gap Rate: {skill_gap_rate}%\")"
   ]
  },
  {
   "cell_type": "code",
   "execution_count": 6,
   "id": "1b6a5234-03b5-49cc-9a8d-b71390e2bd4c",
   "metadata": {},
   "outputs": [
    {
     "name": "stdout",
     "output_type": "stream",
     "text": [
      "Employees with a skill gap:\n",
      "   EmployeeID   CurrentSkill ProficiencyLevel ProjectSkillRequired  Gap\n",
      "3          E3           JAVA         Advanced                  SQL  Yes\n",
      "6          E6          EXCEL     Intermediate               PYTHON  Yes\n",
      "7          E7  DATA ANALYSIS         Beginner                   ML  Yes\n",
      "8          E8         PYTHON         Advanced                   ML  Yes\n",
      "10        E10          EXCEL     Intermediate                 JAVA  Yes\n"
     ]
    }
   ],
   "source": [
    "# Filter employees who have a skill gap\n",
    "employees_gap_df = df[df[\"Gap\"].str.upper() == \"YES\"]\n",
    "\n",
    "# Preview first few rows\n",
    "print(\"Employees with a skill gap:\")\n",
    "print(employees_gap_df.head())"
   ]
  },
  {
   "cell_type": "markdown",
   "id": "e62ecc6b-8ac0-4a30-a50b-541d71e2500b",
   "metadata": {},
   "source": [
    "**Insight:** Most skill gaps involve moving from general, non-programming tools such as Excel and basic data analysis to technical, programming, and AI-oriented skills such as Python, Machine Learning (ML), Java, and SQL."
   ]
  },
  {
   "cell_type": "code",
   "execution_count": 7,
   "id": "60b8cf8f-614b-430e-bc2c-26aaeba7d81b",
   "metadata": {},
   "outputs": [
    {
     "name": "stdout",
     "output_type": "stream",
     "text": [
      "\n",
      "Top 5 Most In-Demand Project Skills:\n",
      "ProjectSkillRequired\n",
      "SQL       2553\n",
      "PYTHON    2505\n",
      "ML        2478\n",
      "JAVA      2464\n",
      "Name: count, dtype: int64\n"
     ]
    }
   ],
   "source": [
    "# Count the most in-demand project skills\n",
    "top_skills = df[\"ProjectSkillRequired\"].value_counts()\n",
    "\n",
    "print(\"\\nTop 5 Most In-Demand Project Skills:\")\n",
    "print(top_skills.head(5))"
   ]
  },
  {
   "cell_type": "markdown",
   "id": "4f334a3b-3cbb-40d2-8d18-aa7b98778010",
   "metadata": {},
   "source": [
    "<h2>---- Proficiency Level Analysis & Visualization ---- </h2>"
   ]
  },
  {
   "cell_type": "code",
   "execution_count": 8,
   "id": "ef04749f-fcec-4ab2-bc9c-8942bfe4c7cd",
   "metadata": {},
   "outputs": [
    {
     "name": "stdout",
     "output_type": "stream",
     "text": [
      "Gap Rates by Proficiency Level:\n",
      "  ProficiencyLevel   GapRate\n",
      "0         Advanced  0.418994\n",
      "1         Beginner  0.401922\n",
      "2     Intermediate  0.394495\n"
     ]
    }
   ],
   "source": [
    "# Convert Gap column to binary (1 = Yes, 0 = No)\n",
    "df['GapBinary'] = df['Gap'].apply(lambda x: 1 if x == 'Yes' else 0)\n",
    "\n",
    "# Group by ProficiencyLevel and calculate gap rate\n",
    "gap_rates = df.groupby('ProficiencyLevel')['GapBinary'].mean().reset_index()\n",
    "gap_rates.rename(columns={'GapBinary': 'GapRate'}, inplace=True)\n",
    "\n",
    "print(\"Gap Rates by Proficiency Level:\")\n",
    "print(gap_rates)"
   ]
  },
  {
   "cell_type": "markdown",
   "id": "4bff3fed-6138-4f43-a5ec-5cae7d652c3e",
   "metadata": {},
   "source": [
    "**Insight:** Skill gaps exist across all proficiency levels, with Advanced employees showing the highest gap rate. Training programs should focus on aligning employee skills with project requirements rather than just increasing proficiency.\n"
   ]
  },
  {
   "cell_type": "code",
   "execution_count": 9,
   "id": "59260327-495e-4c56-95e8-37f2be64bb1f",
   "metadata": {},
   "outputs": [
    {
     "data": {
      "text/plain": [
       "<Axes: xlabel='ProficiencyLevel', ylabel='GapRate'>"
      ]
     },
     "execution_count": 9,
     "metadata": {},
     "output_type": "execute_result"
    },
    {
     "data": {
      "image/png": "[encoded data removed]",
      "text/plain": [
       "<Figure size 640x480 with 1 Axes>"
      ]
     },
     "metadata": {},
     "output_type": "display_data"
    }
   ],
   "source": [
    "import seaborn as sns\n",
    "sns.barplot(x=gap_rates['ProficiencyLevel'],y=gap_rates['GapRate'])"
   ]
  },
  {
   "cell_type": "markdown",
   "id": "437c7b67-035c-433b-aca6-5a19b89031ae",
   "metadata": {},
   "source": [
    "<h2>---- Skill Transition Heatmap ---- </h2>"
   ]
  },
  {
   "cell_type": "code",
   "execution_count": 10,
   "id": "5795c05a-e583-4eac-a860-ec1cf0b2b444",
   "metadata": {},
   "outputs": [
    {
     "name": "stdout",
     "output_type": "stream",
     "text": [
      "ProjectSkillRequired  JAVA   ML  PYTHON  SQL\n",
      "CurrentSkill                                \n",
      "DATA ANALYSIS          421  422     418  412\n",
      "EXCEL                  406  418     421  418\n",
      "JAVA                   408  411     379  410\n",
      "ML                     386  405     414  440\n",
      "PYTHON                 424  423     435  442\n",
      "SQL                    419  399     438  431\n"
     ]
    }
   ],
   "source": [
    "import pandas as pd\n",
    "\n",
    "skill_matrix = pd.crosstab(\n",
    "    df['CurrentSkill'],\n",
    "    df['ProjectSkillRequired']\n",
    ")\n",
    "print(skill_matrix)"
   ]
  },
  {
   "cell_type": "markdown",
   "id": "1b66dfc3-59cc-4b3c-8dd5-4972c7c3deb5",
   "metadata": {},
   "source": [
    "**Insight:** The skill matrix shows that employees across all current skills need training to meet project requirements. Cross-training in Python, SQL, and ML should be prioritized, as these skills are in high demand across projects.\n"
   ]
  },
  {
   "cell_type": "code",
   "execution_count": 11,
   "id": "8af204f5-a4fc-4492-b56a-8598a6832986",
   "metadata": {},
   "outputs": [
    {
     "data": {
      "text/plain": [
       "Text(50.72222222222221, 0.5, 'Current Skill')"
      ]
     },
     "execution_count": 11,
     "metadata": {},
     "output_type": "execute_result"
    },
    {
     "data": {
      "image/png": "[encoded data removed]",
      "text/plain": [
       "<Figure size 640x480 with 2 Axes>"
      ]
     },
     "metadata": {},
     "output_type": "display_data"
    }
   ],
   "source": [
    "import seaborn as sns\n",
    "import matplotlib.pyplot as plt\n",
    "sns.heatmap(skill_matrix,annot=True , fmt = 'd',cmap = 'viridis')\n",
    "plt.xlabel('Required Skill')\n",
    "plt.ylabel('Current Skill')"
   ]
  },
  {
   "cell_type": "code",
   "execution_count": 12,
   "id": "9a740b98-4bd4-46a9-9363-26c5e33e853b",
   "metadata": {},
   "outputs": [],
   "source": [
    "df.to_csv('CleanedSkillGap.csv', index=False)"
   ]
  },
  {
   "cell_type": "code",
   "execution_count": 13,
   "id": "daa23188-3822-497d-bb59-227b57bcc0fc",
   "metadata": {},
   "outputs": [
    {
     "name": "stdout",
     "output_type": "stream",
     "text": [
      "Gap Rates by Proficiency Level:\n",
      "  ProjectSkillRequired  Skill_GapCount\n",
      "0                 JAVA        0.409091\n",
      "1                   ML        0.417676\n",
      "2               PYTHON        0.396407\n",
      "3                  SQL        0.398355\n"
     ]
    }
   ],
   "source": [
    "# Convert Gap column to binary (1 = Yes, 0 = No)\n",
    "df['SkillGapCount'] = df['Gap'].apply(lambda x: 1 if x == 'Yes' else 0)\n",
    "\n",
    "# Group by ProficiencyLevel and calculate gap rate\n",
    "gap_rates = df.groupby('ProjectSkillRequired')['SkillGapCount'].mean().reset_index()\n",
    "gap_rates.rename(columns={'SkillGapCount': 'Skill_GapCount'}, inplace=True)\n",
    "\n",
    "print(\"Gap Rates by Proficiency Level:\")\n",
    "print(gap_rates)"
   ]
  },
  {
   "cell_type": "markdown",
   "id": "3ac44d6a-59a7-4e24-ab58-b911e90c04f6",
   "metadata": {},
   "source": [
    "**Insight:** Skill gaps vary across project skills, with the highest gap observed in Machine Learning (41.8%), followed by JAVA, SQL, and Python. Targeted training in ML and JAVA should be prioritized to align employee skills with project requirements.\n"
   ]
  }
 ],
 "metadata": {
  "kernelspec": {
   "display_name": "Python 3",
   "language": "python",
   "name": "python3"
  },
  "language_info": {
   "codemirror_mode": {
    "name": "ipython",
    "version": 3
   },
   "file_extension": ".py",
   "mimetype": "text/x-python",
   "name": "python",
   "nbconvert_exporter": "python",
   "pygments_lexer": "ipython3",
   "version": "3.13.2"
  }
 },
 "nbformat": 4,
 "nbformat_minor": 5
}
